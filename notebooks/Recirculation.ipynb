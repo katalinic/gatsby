{
 "cells": [
  {
   "cell_type": "markdown",
   "metadata": {
    "collapsed": true
   },
   "source": [
    "$$\n",
    "\\newcommand{\\bx}{\\mathbf{x}}\n",
    "\\newcommand{\\bv}{\\mathbf{v}}\n",
    "\\newcommand{\\by}{\\mathbf{y}}\n",
    "\\newcommand{\\bz}{\\mathbf{z}}\n",
    "\\newcommand{\\E}{\\mathbb{E}}\n",
    "\\newcommand{\\V}{\\mathbb{V}}\n",
    "\\newcommand{\\R}{\\mathbb{R}}\n",
    "\\newcommand{\\calN}{\\mathcal{N}}\n",
    "$$"
   ]
  },
  {
   "cell_type": "markdown",
   "metadata": {},
   "source": [
    "## Simple implementation of the recirculation algorithm"
   ]
  },
  {
   "cell_type": "code",
   "execution_count": 1,
   "metadata": {},
   "outputs": [],
   "source": [
    "import matplotlib.pyplot as plt\n",
    "import matplotlib.cm as cm\n",
    "import numpy as np\n",
    "import seaborn as sns\n",
    "from scipy.special import expit as sigmoid\n",
    "\n",
    "sns.set(style=\"white\", color_codes=True)\n",
    "\n",
    "np.random.seed(42)"
   ]
  },
  {
   "cell_type": "code",
   "execution_count": 2,
   "metadata": {},
   "outputs": [],
   "source": [
    "class Layer:\n",
    "    def __init__(self, input_size, output_size, activation_fn, include_bias=False):\n",
    "        self._i = input_size\n",
    "        self._o = output_size\n",
    "        self._fn = activation_fn\n",
    "        self._include_bias = include_bias\n",
    "        \n",
    "        self._output = None\n",
    "        self._initialise_params()\n",
    "    \n",
    "    def _initialise_params(self):\n",
    "        self._W = np.random.uniform(low=-0.5, high=0.5, size=(self._o, self._i))\n",
    "        if self._include_bias:\n",
    "            self._b = np.random.uniform(low=-0.5, high=0.5, size=(self._o, 1))\n",
    "        \n",
    "    def _compute_activities(self, x):\n",
    "        assert len(x.shape) == 2, \"received input of shape {}\".format(x.shape)\n",
    "        assert x.shape[1] == self._i, \"received input of shape {}, expected 2nd dim {}\".format(x.shape, self._i)\n",
    "        \n",
    "        activity = x @ self._W.T\n",
    "        if self._include_bias:\n",
    "            activity += self._b.T\n",
    "        return self._fn(activity)\n",
    "            \n",
    "    def __call__(self, x, reg=None, l=0.0):\n",
    "        self._input = x\n",
    "        if reg is None:\n",
    "            self._output = self._compute_activities(x)\n",
    "        else:\n",
    "            self._output = l * reg + (1.0 - l) * self._compute_activities(x)\n",
    "        return self._output\n",
    "    \n",
    "    def learn(self, true_input, previous_output, lr):\n",
    "        gradient_estimate = previous_output - self._output\n",
    "        self._W += lr * gradient_estimate.T @ true_input\n",
    "        if self._include_bias:\n",
    "            self._b += lr * gradient_estimate.T @ np.ones((true_input.shape[0], 1))\n",
    "            \n",
    "    def weight(self):\n",
    "        return self._W.copy()"
   ]
  },
  {
   "cell_type": "code",
   "execution_count": 3,
   "metadata": {},
   "outputs": [],
   "source": [
    "class AutoEncoder:\n",
    "    def __init__(self, visible_size, hidden_size):\n",
    "        self._V = visible_size\n",
    "        self._H = hidden_size\n",
    "        self._build_network()\n",
    "        \n",
    "    def _build_network(self):\n",
    "        self._encoder = Layer(self._V, self._H, sigmoid, True)\n",
    "        self._decoder = Layer(self._H, self._V, sigmoid, True)\n",
    "    \n",
    "    def _encode(self, x, reg=None, l=0.0):\n",
    "        return self._encoder(x, reg, l)\n",
    "    \n",
    "    def _decode(self, x, reg=None, l=0.0):\n",
    "        return self._decoder(x, reg, l)\n",
    "        \n",
    "    def learn(self, true_inputs, l, lr):\n",
    "        code = self._encode(true_inputs, None, l)\n",
    "        reconstruction = self._decode(code, true_inputs, l)\n",
    "        \n",
    "        self._decoder.learn(code, true_inputs, lr)\n",
    "        \n",
    "        recode = self._encode(reconstruction, code, l)\n",
    "        \n",
    "        self._encoder.learn(reconstruction, code, lr)\n",
    "        \n",
    "    def reconstruct(self, true_inputs):\n",
    "        return self._decode(self._encode(true_inputs))\n",
    "        \n",
    "    def evaluate(self, true_inputs):\n",
    "        reconstruction = self.reconstruct(true_inputs)\n",
    "        return 0.5 * np.mean(np.sum(np.square(reconstruction - true_inputs), axis=1))\n",
    "    \n",
    "    def weight_alignment(self):\n",
    "        encW = self._encoder.weight()\n",
    "        decW = self._decoder.weight().T\n",
    "        encW /= np.linalg.norm(encW, axis=1, keepdims=True)\n",
    "        decW /= np.linalg.norm(decW, axis=1, keepdims=True)\n",
    "        angles = np.diag(encW @ decW.T)\n",
    "        angles = np.arccos(angles) * 180 / np.pi\n",
    "        return np.max(angles)"
   ]
  },
  {
   "cell_type": "code",
   "execution_count": 12,
   "metadata": {},
   "outputs": [],
   "source": [
    "X = np.eye(4)\n",
    "N = 50"
   ]
  },
  {
   "cell_type": "code",
   "execution_count": 13,
   "metadata": {},
   "outputs": [],
   "source": [
    "ae = AutoEncoder(4, 2)\n",
    "losses, alignments = [], []\n",
    "for _ in range(N):\n",
    "    ae.learn(X, 0.75, 20)\n",
    "    loss = ae.evaluate(X)\n",
    "    losses.append(loss)\n",
    "    alignments.append(ae.weight_alignment())\n",
    "    if loss < 1e-3:\n",
    "        break"
   ]
  },
  {
   "cell_type": "code",
   "execution_count": 15,
   "metadata": {},
   "outputs": [
    {
     "data": {
      "image/png": "[encoded data removed]",
      "text/plain": [
       "<Figure size 432x288 with 1 Axes>"
      ]
     },
     "metadata": {},
     "output_type": "display_data"
    }
   ],
   "source": [
    "color = cm.binary(np.linspace(0, 1, len(losses)))\n",
    "plt.scatter(alignments, losses, c=color)\n",
    "plt.show()"
   ]
  }
 ],
 "metadata": {
  "kernelspec": {
   "display_name": "Python 3",
   "language": "python",
   "name": "python3"
  },
  "language_info": {
   "codemirror_mode": {
    "name": "ipython",
    "version": 3
   },
   "file_extension": ".py",
   "mimetype": "text/x-python",
   "name": "python",
   "nbconvert_exporter": "python",
   "pygments_lexer": "ipython3",
   "version": "3.7.3"
  }
 },
 "nbformat": 4,
 "nbformat_minor": 2
}
