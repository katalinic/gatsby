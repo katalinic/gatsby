{
 "cells": [
  {
   "cell_type": "markdown",
   "metadata": {},
   "source": [
    "$$\n",
    "\\newcommand{\\bx}{\\mathbf{x}}\n",
    "\\newcommand{\\bxi}{\\mathbf{x}^{(i)}}\n",
    "\\newcommand{\\bxid}{\\mathbf{x}_d^{(i)}}\n",
    "\\newcommand{\\si}{s^{(i)}}\n",
    "\\newcommand{\\bv}{\\mathbf{v}}\n",
    "\\newcommand{\\by}{\\mathbf{y}}\n",
    "\\newcommand{\\bz}{\\mathbf{z}}\n",
    "\\newcommand{\\E}{\\mathbb{E}}\n",
    "\\newcommand{\\V}{\\mathbb{V}}\n",
    "\\newcommand{\\R}{\\mathbb{R}}\n",
    "\\newcommand{\\calN}{\\mathcal{N}}\n",
    "\\newcommand{\\tr}{\\textrm{Tr}}\n",
    "\\newcommand{\\expect}[1]{\\langle {#1} \\rangle}\n",
    "$$"
   ]
  },
  {
   "cell_type": "markdown",
   "metadata": {},
   "source": [
    "## 2D Mixture of Bernoullis EM Demo"
   ]
  },
  {
   "cell_type": "code",
   "execution_count": 1,
   "metadata": {},
   "outputs": [],
   "source": [
    "import matplotlib.pyplot as plt\n",
    "import numpy as np\n",
    "import seaborn as sns\n",
    "\n",
    "sns.set(style=\"white\", color_codes=True)"
   ]
  },
  {
   "cell_type": "markdown",
   "metadata": {},
   "source": [
    "### Prepare data"
   ]
  },
  {
   "cell_type": "code",
   "execution_count": 2,
   "metadata": {},
   "outputs": [],
   "source": [
    "A = np.loadtxt(\"../data/binarydigits.txt\")\n",
    "A = np.asarray(A)"
   ]
  },
  {
   "cell_type": "code",
   "execution_count": 3,
   "metadata": {},
   "outputs": [],
   "source": [
    "N, D = A.shape"
   ]
  },
  {
   "cell_type": "markdown",
   "metadata": {},
   "source": [
    "### EM optimisation"
   ]
  },
  {
   "cell_type": "markdown",
   "metadata": {},
   "source": [
    "We model a given binary data vector as a mixture:\n",
    "\n",
    "\\begin{align}\n",
    "    s &\\sim \\textrm{Discrete}[\\pi] \\\\\n",
    "    \\bx \\mid s = k &= \\prod_d P(\\bx_d \\mid \\Lambda_{kd}) = \\prod_d \\Lambda_{kd}^{\\bx_d}(1-\\Lambda_{kd})^{1-{\\bx_d}}\n",
    "\\end{align}"
   ]
  },
  {
   "cell_type": "markdown",
   "metadata": {},
   "source": [
    "The log-joint is given by\n",
    "\n",
    "\\begin{align}\n",
    "    \\log \\prod_i P(\\bx_i, s_i \\mid \\pi, \\Lambda) &= \\log \\prod_i \\prod_k [P(\\si=k) \\prod_d P(\\bxid \\mid \\si=k)]^{I[\\si = k]} \\\\\n",
    "    &= \\log \\prod_i \\prod_k [\\pi_k \\prod_d \\Lambda_{kd}^{\\bxid}(1-\\Lambda_{kd})^{1-{\\bxid}}]^{I[\\si = k]} \\\\\n",
    "    &= \\sum_i \\sum_k I[\\si = k] (\\log \\pi_k + \\sum_d \\bxid \\log \\Lambda_{kd} + (1 - \\bxid)\\log(1-\\Lambda_{kd})) \n",
    "\\end{align}"
   ]
  },
  {
   "cell_type": "markdown",
   "metadata": {},
   "source": [
    "Therefore the expectations we will need in the E-step are of $I[\\si=k]$ under the posterior $P(\\si \\mid \\bxi)$.\n",
    "\n",
    "\\begin{align}\n",
    "    P(\\si=k \\mid \\bxi) &\\propto P(\\bxi, \\si=k) = \\frac{P(\\bxi, \\si=k)}{\\sum_k' P(\\bxi, \\si=k')} \\\\\n",
    "    &\\Rightarrow \\gamma_{ik} = \\expect{I[\\si=k]}_{P(\\si=k \\mid \\bxi)} = P(\\si=k \\mid \\bxi)\n",
    "\\end{align}"
   ]
  },
  {
   "cell_type": "markdown",
   "metadata": {},
   "source": [
    "The expected log-joint under the full posterior (which is separable) is then\n",
    "\n",
    "\\begin{equation}\n",
    "    \\sum_i \\sum_k r_{ik} (\\log \\pi_k + \\sum_d \\bxid \\log \\Lambda_{kd} + (1 - \\bxid)\\log(1-\\Lambda_{kd})) \n",
    "\\end{equation}"
   ]
  },
  {
   "cell_type": "markdown",
   "metadata": {},
   "source": [
    "M-step updates are then\n",
    "\n",
    "\\begin{align}\n",
    "    \\pi_k &= \\frac{1}{N}\\sum_i r_{ik} \\\\\n",
    "    \\Lambda_{kd} &= \\frac{1}{\\sum_i r_{ik}}\\sum_i r_{ik}\\bxid \\\\\n",
    "\\end{align}"
   ]
  },
  {
   "cell_type": "code",
   "execution_count": 4,
   "metadata": {},
   "outputs": [],
   "source": [
    "def initial_parameters(D, K):\n",
    "    mixings = np.random.random(K)\n",
    "    mixings /= np.sum(mixings)\n",
    "    \n",
    "    L = np.random.random((K, D))\n",
    "\n",
    "    return mixings, L"
   ]
  },
  {
   "cell_type": "code",
   "execution_count": 5,
   "metadata": {},
   "outputs": [],
   "source": [
    "def E(data, *old_params):\n",
    "    mixings, L = old_params\n",
    "    \n",
    "    bernoulli_lls = np.power(L, data[:, None, :]) * np.power((1.0-L), (1-data[:, None, :])) # N x K x D\n",
    "    bernoulli_lls_prod = np.prod(bernoulli_lls, axis=-1)  # N x K\n",
    "    joints = bernoulli_lls_prod * mixings  # N x K\n",
    "    posteriors = joints / np.sum(joints, axis=1)[:, None]  # N x K\n",
    "    \n",
    "    return {\"responsibilities\": posteriors}"
   ]
  },
  {
   "cell_type": "code",
   "execution_count": 6,
   "metadata": {},
   "outputs": [],
   "source": [
    "def M(data, *old_params, **expectations):\n",
    "    old_mixings, old_L = old_params\n",
    "    responsibilities = expectations[\"responsibilities\"]\n",
    "    \n",
    "    total_responsibilities = np.sum(responsibilities, axis=0)\n",
    "\n",
    "    mixings = total_responsibilities / N\n",
    "    L = responsibilities.T @ data / total_responsibilities[:, None]\n",
    "    \n",
    "    return mixings, L"
   ]
  },
  {
   "cell_type": "code",
   "execution_count": 7,
   "metadata": {},
   "outputs": [],
   "source": [
    "def loglikelihood(data, *params):\n",
    "    mixings, L = params\n",
    "    \n",
    "    bernoulli_lls = np.power(L, data[:, None, :]) * np.power((1.0-L), (1-data[:, None, :])) # N x K x D\n",
    "    bernoulli_lls_prod = np.prod(bernoulli_lls, axis=-1)  # N x K\n",
    "    joints = bernoulli_lls_prod * mixings  # N x K\n",
    "    ll = np.sum(np.log(np.sum(joints, axis=1)))\n",
    "    \n",
    "    return ll"
   ]
  },
  {
   "cell_type": "code",
   "execution_count": 8,
   "metadata": {},
   "outputs": [],
   "source": [
    "def run(K, num_iters=30, stopping_criterion=1e-6):\n",
    "    lls = []\n",
    "    old_ll = -1e6\n",
    "    \n",
    "    mixings, L = initial_parameters(D, K)\n",
    "    \n",
    "    for _ in range(num_iters):\n",
    "        ll = loglikelihood(A, mixings, L)\n",
    "        if abs((ll - old_ll) / ll) <= stopping_criterion:\n",
    "            break\n",
    "        lls.append(ll)\n",
    "        old_ll = ll\n",
    "        \n",
    "        expectations = E(A, mixings, L)\n",
    "        mixings, L = M(A, mixings, L, **expectations)\n",
    "    \n",
    "    return lls"
   ]
  },
  {
   "cell_type": "code",
   "execution_count": 9,
   "metadata": {},
   "outputs": [
    {
     "data": {
      "image/png": "[encoded data removed]",
      "text/plain": [
       "<Figure size 432x288 with 1 Axes>"
      ]
     },
     "metadata": {},
     "output_type": "display_data"
    }
   ],
   "source": [
    "ks = [2, 3, 4, 7, 10]\n",
    "for k in ks:\n",
    "    plt.plot(run(k))\n",
    "plt.legend([\"k=%s\"% k for k in ks])\n",
    "plt.show()"
   ]
  }
 ],
 "metadata": {
  "kernelspec": {
   "display_name": "Python 3",
   "language": "python",
   "name": "python3"
  },
  "language_info": {
   "codemirror_mode": {
    "name": "ipython",
    "version": 3
   },
   "file_extension": ".py",
   "mimetype": "text/x-python",
   "name": "python",
   "nbconvert_exporter": "python",
   "pygments_lexer": "ipython3",
   "version": "3.7.3"
  }
 },
 "nbformat": 4,
 "nbformat_minor": 2
}
