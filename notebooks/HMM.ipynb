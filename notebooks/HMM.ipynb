{
 "cells": [
  {
   "cell_type": "markdown",
   "metadata": {},
   "source": [
    "$$\n",
    "\\newcommand{\\bx}{\\mathbf{x}}\n",
    "\\newcommand{\\bv}{\\mathbf{v}}\n",
    "\\newcommand{\\by}{\\mathbf{y}}\n",
    "\\newcommand{\\bz}{\\mathbf{z}}\n",
    "\\newcommand{\\E}{\\mathbb{E}}\n",
    "\\newcommand{\\V}{\\mathbb{V}}\n",
    "\\newcommand{\\R}{\\mathbb{R}}\n",
    "\\newcommand{\\calN}{\\mathcal{N}}\n",
    "\\newcommand{\\tr}{\\textrm{Tr}}\n",
    "\\newcommand{\\expect}[1]{\\langle {#1} \\rangle}\n",
    "$$"
   ]
  },
  {
   "cell_type": "markdown",
   "metadata": {},
   "source": [
    "## HMM EM Demo"
   ]
  },
  {
   "cell_type": "code",
   "execution_count": 1,
   "metadata": {},
   "outputs": [],
   "source": [
    "import matplotlib.pyplot as plt\n",
    "import numpy as np\n",
    "import scipy.stats as st\n",
    "import seaborn as sns\n",
    "\n",
    "sns.set(style=\"white\", color_codes=True)"
   ]
  },
  {
   "cell_type": "markdown",
   "metadata": {},
   "source": [
    "### Prepare data"
   ]
  },
  {
   "cell_type": "code",
   "execution_count": 2,
   "metadata": {},
   "outputs": [],
   "source": [
    "def one_hot(x):\n",
    "    assert min(x) == 0\n",
    "    l = max(x) + 1\n",
    "    res = np.eye(l)[x]\n",
    "    return res"
   ]
  },
  {
   "cell_type": "code",
   "execution_count": 3,
   "metadata": {},
   "outputs": [],
   "source": [
    "with open('../data/simple_hmm.txt', 'r') as file:\n",
    "    data = file.read().replace('\\n', '')\n",
    "alphabet = {c: i for i, c in enumerate(set(data))}\n",
    "X_flat = np.array([alphabet[c] for c in data])\n",
    "X = one_hot(X_flat)\n",
    "del X_flat"
   ]
  },
  {
   "cell_type": "markdown",
   "metadata": {},
   "source": [
    "### EM optimisation"
   ]
  },
  {
   "cell_type": "code",
   "execution_count": 4,
   "metadata": {},
   "outputs": [],
   "source": [
    "def init_params(K, D):\n",
    "    pi = np.ones(K) / K\n",
    "    pi += 0.05 * np.random.normal(size=K)\n",
    "    pi /= np.sum(pi)\n",
    "    \n",
    "    phi = np.ones((K, K)) / K\n",
    "    phi += 0.05 * np.random.normal(size=(K, K))\n",
    "    phi /= np.sum(phi, axis=1)[:, None]\n",
    "    \n",
    "    A = np.ones((K, D)) / D\n",
    "    A += 0.05 * np.random.normal(size=(K, D))\n",
    "    A /= np.sum(A, axis=1)[:, None]\n",
    "    \n",
    "    return pi, phi, A"
   ]
  },
  {
   "cell_type": "code",
   "execution_count": 5,
   "metadata": {},
   "outputs": [],
   "source": [
    "def categorical_pmf(V, A):\n",
    "    # Note that argmax basically undoes our one-hot preprocessing.\n",
    "    return A[:, V.argmax(axis=-1)].T"
   ]
  },
  {
   "cell_type": "code",
   "execution_count": 6,
   "metadata": {},
   "outputs": [],
   "source": [
    "# Ideally here we'd be emission model agnostic, could even abstract away the Markov chain too\n",
    "def forward_backward(X, pi, phi, A):\n",
    "    T, _ = X.shape\n",
    "    assert pi.shape[0] == phi.shape[0] == phi.shape[1]\n",
    "    \n",
    "    pmfs = categorical_pmf(X, A) \n",
    "    \n",
    "    alpha_init = pi * pmfs[0]\n",
    "    rho_init = np.sum(alpha_init)\n",
    "    alpha_init /= rho_init\n",
    "    alphas = [alpha_init]\n",
    "    rhos = [rho_init]\n",
    "\n",
    "    for t in range(1, T):\n",
    "        alpha_t = pmfs[t]\n",
    "        alpha_t = alpha_t * phi.T @ alphas[-1]\n",
    "        rho_t = np.sum(alpha_t)\n",
    "        alpha_t /= rho_t\n",
    "        alphas.append(alpha_t)\n",
    "        rhos.append(rho_t)\n",
    "      \n",
    "    betas = [np.ones(pi.shape[0])]\n",
    "    \n",
    "    for t in range(T - 2, -1, -1):\n",
    "        beta_t = phi @ (pmfs[t+1] * betas[-1]) / rhos[t+1]\n",
    "        betas.append(beta_t)\n",
    "        \n",
    "    return np.array(alphas), np.array(betas)[::-1], np.array(rhos)"
   ]
  },
  {
   "cell_type": "code",
   "execution_count": 7,
   "metadata": {},
   "outputs": [],
   "source": [
    "def neg_log_likelihood(rhos):\n",
    "    return -np.sum(np.log(rhos))"
   ]
  },
  {
   "cell_type": "code",
   "execution_count": 8,
   "metadata": {},
   "outputs": [],
   "source": [
    "def E(data, *old_params):\n",
    "    pi, phi, A = old_params\n",
    "    \n",
    "    alphas, betas, rhos = forward_backward(data, pi, phi, A)\n",
    "    \n",
    "    pmfs = categorical_pmf(X, A)\n",
    "\n",
    "    marginal_posteriors = alphas * betas\n",
    "    joint_posteriors = (alphas[:-1, :, None] @ (betas * pmfs)[1:, None, :] / rhos[1:][:, None, None]) * phi    \n",
    "    \n",
    "    return {'marginals': marginal_posteriors, 'joints': joint_posteriors}, neg_log_likelihood(rhos)"
   ]
  },
  {
   "cell_type": "code",
   "execution_count": 9,
   "metadata": {},
   "outputs": [],
   "source": [
    "def M(data, *old_params, **expectations):\n",
    "    old_pi, old_phi, old_A = old_params\n",
    "    \n",
    "    marginal_posteriors = expectations[\"marginals\"]\n",
    "    joint_posteriors = expectations[\"joints\"]\n",
    "    \n",
    "    pi = marginal_posteriors[0]\n",
    "    phi = np.sum(joint_posteriors, axis=0) / np.sum(marginal_posteriors[:-1], axis=0)[:, None]\n",
    "    A = np.sum(X[:, None, :] * marginal_posteriors[:, :, None], axis=0)\n",
    "    A /= np.sum(marginal_posteriors, axis=0)[:, None]\n",
    "    \n",
    "    return pi, phi, A"
   ]
  },
  {
   "cell_type": "code",
   "execution_count": 10,
   "metadata": {},
   "outputs": [],
   "source": [
    "def EM_categorical(X, K, num_iters=50, eps=1e-4):\n",
    "    pi, phi, A = init_params(K, X.shape[1])\n",
    "\n",
    "    neg_lls = []\n",
    "    prev_nll = 1e8\n",
    "    for i in range(num_iters):\n",
    "        expectations, nll = E(X, pi, phi, A)\n",
    "        pi, phi, A = M(X, pi, phi, A, **expectations)\n",
    "        \n",
    "        diff = 1 - nll/prev_nll\n",
    "        prev_nll = nll\n",
    "        neg_lls.append(nll)\n",
    "\n",
    "        if diff < 0:\n",
    "            print(\"Observed increase in negative likelihood at iteration {}.\".format(i))\n",
    "            if abs(diff) < eps:\n",
    "                print(\"Suspect numerical issue.\")\n",
    "            else:\n",
    "                print(\"Suspect algorithmic issue.\")\n",
    "            break\n",
    "        elif diff < eps:\n",
    "            print(\"Satisfied tolerance stopping criterion.\")\n",
    "            break\n",
    "        \n",
    "    return {\"pi\": pi, \"phi\": phi, \"A\": A}, neg_lls"
   ]
  },
  {
   "cell_type": "code",
   "execution_count": 11,
   "metadata": {},
   "outputs": [
    {
     "name": "stdout",
     "output_type": "stream",
     "text": [
      "Satisfied tolerance stopping criterion.\n"
     ]
    }
   ],
   "source": [
    "_, neg_lls = EM_categorical(X, 2)"
   ]
  },
  {
   "cell_type": "code",
   "execution_count": 12,
   "metadata": {},
   "outputs": [
    {
     "data": {
      "image/png": "[encoded data removed]",
      "text/plain": [
       "<Figure size 432x288 with 1 Axes>"
      ]
     },
     "metadata": {},
     "output_type": "display_data"
    }
   ],
   "source": [
    "plt.plot(neg_lls)\n",
    "plt.show()"
   ]
  }
 ],
 "metadata": {
  "kernelspec": {
   "display_name": "Python 3",
   "language": "python",
   "name": "python3"
  },
  "language_info": {
   "codemirror_mode": {
    "name": "ipython",
    "version": 3
   },
   "file_extension": ".py",
   "mimetype": "text/x-python",
   "name": "python",
   "nbconvert_exporter": "python",
   "pygments_lexer": "ipython3",
   "version": "3.7.3"
  }
 },
 "nbformat": 4,
 "nbformat_minor": 2
}
