{
 "cells": [
  {
   "cell_type": "markdown",
   "metadata": {},
   "source": [
    "$$\n",
    "\\newcommand{\\bx}{\\mathbf{x}}\n",
    "\\newcommand{\\bv}{\\mathbf{v}}\n",
    "\\newcommand{\\by}{\\mathbf{y}}\n",
    "\\newcommand{\\bz}{\\mathbf{z}}\n",
    "\\newcommand{\\E}{\\mathbb{E}}\n",
    "\\newcommand{\\V}{\\mathbb{V}}\n",
    "\\newcommand{\\R}{\\mathbb{R}}\n",
    "\\newcommand{\\calN}{\\mathcal{N}}\n",
    "$$"
   ]
  },
  {
   "cell_type": "markdown",
   "metadata": {},
   "source": [
    "## Simple implementation of an RBM trained using contrastive divergence on MNIST"
   ]
  },
  {
   "cell_type": "code",
   "execution_count": 1,
   "metadata": {},
   "outputs": [],
   "source": [
    "import matplotlib.pyplot as plt\n",
    "import numpy as np\n",
    "import seaborn as sns\n",
    "import mnist\n",
    "from scipy.special import expit as sigmoid\n",
    "\n",
    "sns.set(style=\"white\", color_codes=True)\n",
    "\n",
    "np.random.seed(42)"
   ]
  },
  {
   "cell_type": "code",
   "execution_count": 2,
   "metadata": {},
   "outputs": [],
   "source": [
    "train_examples = mnist.train_images()\n",
    "train_examples[train_examples<127]=0\n",
    "train_examples[train_examples>=127]=1\n",
    "train_examples = np.reshape(train_examples, (train_examples.shape[0], -1))\n",
    "train_labels = mnist.train_labels()\n",
    "train_examples_map = {str(label): train_examples[train_labels==label]\n",
    "                  for label in set(train_labels)}\n",
    "del train_labels"
   ]
  },
  {
   "cell_type": "code",
   "execution_count": 3,
   "metadata": {},
   "outputs": [],
   "source": [
    "def batch_generator(data, batch_size):\n",
    "    N = data.shape[0]\n",
    "    \n",
    "    np.random.shuffle(data)\n",
    "    def _gen():\n",
    "        for i in range(0, N, batch_size):\n",
    "            yield data[i:i + batch_size]\n",
    "        \n",
    "    return _gen"
   ]
  },
  {
   "cell_type": "code",
   "execution_count": 4,
   "metadata": {},
   "outputs": [],
   "source": [
    "class RBM:\n",
    "    def __init__(self, num_visible, num_hidden):\n",
    "        self.D = num_visible\n",
    "        self.H = num_hidden\n",
    "\n",
    "        self._initialise_params()\n",
    "        \n",
    "    def fit(self, data, k, learning_rate=1e-3, epochs=20, batch_size=0):\n",
    "        \"\"\"Fit the model using CD-k.\"\"\"\n",
    "        assert len(data.shape) == 2\n",
    "        assert data.shape[1] == self.D\n",
    "        if batch_size == 0:\n",
    "            batch_size = data.shape[0]\n",
    "        \n",
    "        batch_gen = batch_generator(data, batch_size)\n",
    "        for _ in range(epochs):\n",
    "            for batch in batch_gen():\n",
    "                self._single_weight_update(batch, k, learning_rate)\n",
    "        \n",
    "    def energy(self, visible, hidden):\n",
    "        visible = self._validate_visible_input(visible)\n",
    "        hidden = self._validate_hidden_input(hidden)\n",
    "\n",
    "        return -np.trace(hidden @ self.W @ visible.T)\n",
    "            \n",
    "    def conditional_sample_visible(self, hidden):\n",
    "        hidden = self._validate_hidden_input(hidden)\n",
    "        probs = self._compute_probs_visible(hidden)\n",
    "        return RBM._block_sample(probs)\n",
    "    \n",
    "    def conditional_sample_hidden(self, visible):\n",
    "        visible = self._validate_visible_input(visible)   \n",
    "        probs = self._compute_probs_hidden(visible)\n",
    "        return RBM._block_sample(probs)\n",
    "    \n",
    "    def params(self):\n",
    "        return self.W\n",
    "    \n",
    "    def reset_params(self):\n",
    "        self._initialise_params()\n",
    "    \n",
    "    def _contrastive_divergence_step(self, visible, k):\n",
    "        \"\"\"Runs one iteration of CD-k, returning gradient update for the given training example.\"\"\"\n",
    "        N = visible.shape[0]\n",
    "        \n",
    "        hidden_probs = self._compute_probs_hidden(visible)\n",
    "        hidden = RBM._block_sample(hidden_probs)\n",
    "        \n",
    "        vh0 = hidden_probs.T @ visible / N\n",
    "        \n",
    "        for _ in range(k):\n",
    "            visible = self.conditional_sample_visible(hidden)\n",
    "            hidden = self.conditional_sample_hidden(visible)\n",
    "        \n",
    "        vhk = np.mean(hidden[..., None] @ visible[:, None, :], axis=0)\n",
    "        \n",
    "        return vh0 - vhk\n",
    "    \n",
    "    def _single_weight_update(self, batch, k, learning_rate):\n",
    "        self.W += learning_rate * self._contrastive_divergence_step(batch, k)\n",
    "        \n",
    "    def _compute_probs_visible(self, hidden):\n",
    "        activations = self._compute_activations_visible(hidden)\n",
    "        return sigmoid(activations)\n",
    "    \n",
    "    def _compute_probs_hidden(self, visible):\n",
    "        activations = self._compute_activations_hidden(visible)\n",
    "        return sigmoid(activations)\n",
    "    \n",
    "    def _compute_activations_visible(self, hidden):\n",
    "        return hidden @ self.W\n",
    "    \n",
    "    def _compute_activations_hidden(self, visible):\n",
    "        return visible @ self.W.T\n",
    "    \n",
    "    def _initialise_params(self):\n",
    "        self.W = np.random.randn(self.H, self.D) / np.sqrt(self.H * self.D)\n",
    "        \n",
    "    def _block_sample(probs):\n",
    "        return np.random.uniform(size=probs.shape) < probs\n",
    "\n",
    "    def _validate_visible_input(self, visible):\n",
    "        if visible.shape == (self.D,):\n",
    "            visible = np.expand_dims(visible, 0)\n",
    "        assert len(visible.shape) == 2\n",
    "        assert visible.shape[1] == self.D\n",
    "        return visible\n",
    "        \n",
    "    def _validate_hidden_input(self, hidden):\n",
    "        if hidden.shape == (self.H,):\n",
    "            hidden = np.expand_dims(hidden, 0)\n",
    "        assert len(hidden.shape) == 2\n",
    "        assert hidden.shape[1] == self.H\n",
    "        return hidden"
   ]
  },
  {
   "cell_type": "markdown",
   "metadata": {},
   "source": [
    "### Train on examples of the digit 2"
   ]
  },
  {
   "cell_type": "code",
   "execution_count": 5,
   "metadata": {},
   "outputs": [],
   "source": [
    "twos = train_examples_map['2']\n",
    "D = twos.shape[1]"
   ]
  },
  {
   "cell_type": "code",
   "execution_count": 6,
   "metadata": {},
   "outputs": [],
   "source": [
    "rbm = RBM(num_visible=D,\n",
    "          num_hidden=50)"
   ]
  },
  {
   "cell_type": "markdown",
   "metadata": {},
   "source": [
    "Before we train the model, we'll compare the energy of the joint configuration when starting from an image of a two, and when starting from a random visible vector, and sampling the hidden vector for each. Granted, this will give us different answers based on the sampling of the hidden vector, but the relative difference is illustrative nonetheless."
   ]
  },
  {
   "cell_type": "code",
   "execution_count": 7,
   "metadata": {},
   "outputs": [
    {
     "name": "stdout",
     "output_type": "stream",
     "text": [
      "Energy of joint configuration based on digit two, pre-training: -0.41\n",
      "Energy of joint configuration based on a random example, pre-training: -0.93\n"
     ]
    }
   ],
   "source": [
    "example_two = twos[42]\n",
    "random_example = np.random.randint(0, 2, D)\n",
    "\n",
    "print(\"Energy of joint configuration based on digit two, pre-training: {:.2f}\".format(\n",
    "    rbm.energy(example_two, rbm.conditional_sample_hidden(example_two))))\n",
    "print(\"Energy of joint configuration based on a random example, pre-training: {:.2f}\".format(\n",
    "    rbm.energy(random_example, rbm.conditional_sample_hidden(random_example))))"
   ]
  },
  {
   "cell_type": "code",
   "execution_count": 8,
   "metadata": {},
   "outputs": [
    {
     "name": "stdout",
     "output_type": "stream",
     "text": [
      "CPU times: user 25.2 s, sys: 2.49 s, total: 27.7 s\n",
      "Wall time: 22.5 s\n"
     ]
    }
   ],
   "source": [
    "%%time\n",
    "rbm.reset_params()\n",
    "rbm.fit(twos, k=1, learning_rate=1e-2, epochs=20, batch_size=0)"
   ]
  },
  {
   "cell_type": "markdown",
   "metadata": {},
   "source": [
    "We now compare the energies after training."
   ]
  },
  {
   "cell_type": "code",
   "execution_count": 9,
   "metadata": {},
   "outputs": [
    {
     "name": "stdout",
     "output_type": "stream",
     "text": [
      "Energy of joint configuration based on digit two, post-training: -130.74\n",
      "Energy of joint configuration based on a random example, post-training: 4.30\n"
     ]
    }
   ],
   "source": [
    "print(\"Energy of joint configuration based on digit two, post-training: {:.2f}\".format(\n",
    "    rbm.energy(example_two, rbm.conditional_sample_hidden(example_two))))\n",
    "print(\"Energy of joint configuration based on a random example, post-training: {:.2f}\".format(\n",
    "    rbm.energy(random_example, rbm.conditional_sample_hidden(random_example))))"
   ]
  },
  {
   "cell_type": "markdown",
   "metadata": {},
   "source": [
    "We can also visualise columns of the weight matrix."
   ]
  },
  {
   "cell_type": "code",
   "execution_count": 10,
   "metadata": {},
   "outputs": [
    {
     "data": {
      "image/png": "[encoded data removed]",
      "text/plain": [
       "<Figure size 1152x1152 with 3 Axes>"
      ]
     },
     "metadata": {},
     "output_type": "display_data"
    }
   ],
   "source": [
    "W = rbm.params()\n",
    "fig, axes = plt.subplots(1, 3, figsize=(16, 16))\n",
    "for i, index in enumerate(np.random.choice(50, size=3, replace=False)):\n",
    "    w = W[index].reshape(28, 28)\n",
    "    w = (w - np.min(w)) / np.ptp(w)\n",
    "    axes[i].imshow(w, cmap='gray')\n",
    "plt.show()"
   ]
  },
  {
   "cell_type": "markdown",
   "metadata": {},
   "source": [
    "### Train on all examples with a larger network"
   ]
  },
  {
   "cell_type": "code",
   "execution_count": 11,
   "metadata": {},
   "outputs": [],
   "source": [
    "rbm_large = RBM(num_visible=D,\n",
    "                num_hidden=500)"
   ]
  },
  {
   "cell_type": "code",
   "execution_count": 12,
   "metadata": {},
   "outputs": [],
   "source": [
    "# %%time\n",
    "rbm_large.reset_params()\n",
    "rbm_large.fit(train_examples, k=1, learning_rate=1e-2, epochs=30, batch_size=100)"
   ]
  },
  {
   "cell_type": "code",
   "execution_count": 13,
   "metadata": {},
   "outputs": [
    {
     "data": {
      "image/png": "[encoded data removed]",
      "text/plain": [
       "<Figure size 1152x1152 with 3 Axes>"
      ]
     },
     "metadata": {},
     "output_type": "display_data"
    }
   ],
   "source": [
    "W_large = rbm_large.params()\n",
    "fig, axes = plt.subplots(1, 3, figsize=(16, 16))\n",
    "for i, index in enumerate(np.random.choice(500, size=3, replace=False)):\n",
    "    w = W_large[index].reshape(28, 28)\n",
    "    w = (w - np.min(w)) / np.ptp(w)\n",
    "    axes[i].imshow(w, cmap='gray')\n",
    "plt.show()"
   ]
  },
  {
   "cell_type": "code",
   "execution_count": 14,
   "metadata": {},
   "outputs": [
    {
     "name": "stdout",
     "output_type": "stream",
     "text": [
      "Energy of joint configuration based on digit 0, post-training: -278.95\n",
      "Energy of joint configuration based on digit 1, post-training: -264.82\n",
      "Energy of joint configuration based on digit 2, post-training: -249.09\n",
      "Energy of joint configuration based on digit 3, post-training: -231.07\n",
      "Energy of joint configuration based on digit 4, post-training: -222.63\n",
      "Energy of joint configuration based on digit 5, post-training: -227.65\n",
      "Energy of joint configuration based on digit 6, post-training: -199.73\n",
      "Energy of joint configuration based on digit 7, post-training: -268.29\n",
      "Energy of joint configuration based on digit 8, post-training: -230.24\n",
      "Energy of joint configuration based on digit 9, post-training: -268.60\n",
      "Energy of joint configuration based on a random example, post-training: -0.00\n"
     ]
    }
   ],
   "source": [
    "for digit in range(10):\n",
    "    example = train_examples_map[str(digit)][42]\n",
    "    print(\"Energy of joint configuration based on digit {}, post-training: {:.2f}\".format(\n",
    "        str(digit), rbm_large.energy(example, rbm_large.conditional_sample_hidden(example))))\n",
    "print(\"Energy of joint configuration based on a random example, post-training: {:.2f}\".format(\n",
    "    rbm_large.energy(random_example, rbm_large.conditional_sample_hidden(random_example))))"
   ]
  }
 ],
 "metadata": {
  "kernelspec": {
   "display_name": "Python 3",
   "language": "python",
   "name": "python3"
  },
  "language_info": {
   "codemirror_mode": {
    "name": "ipython",
    "version": 3
   },
   "file_extension": ".py",
   "mimetype": "text/x-python",
   "name": "python",
   "nbconvert_exporter": "python",
   "pygments_lexer": "ipython3",
   "version": "3.7.3"
  }
 },
 "nbformat": 4,
 "nbformat_minor": 2
}
