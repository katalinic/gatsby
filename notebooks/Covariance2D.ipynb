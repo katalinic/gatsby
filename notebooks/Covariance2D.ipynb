{
 "cells": [
  {
   "cell_type": "markdown",
   "metadata": {},
   "source": [
    "$$\n",
    "\\newcommand{\\bx}{\\mathbf{x}}\n",
    "\\newcommand{\\bv}{\\mathbf{v}}\n",
    "\\newcommand{\\by}{\\mathbf{y}}\n",
    "\\newcommand{\\bz}{\\mathbf{z}}\n",
    "\\newcommand{\\E}{\\mathbb{E}}\n",
    "\\newcommand{\\V}{\\mathbb{V}}\n",
    "\\newcommand{\\R}{\\mathbb{R}}\n",
    "\\newcommand{\\calN}{\\mathcal{N}}\n",
    "$$"
   ]
  },
  {
   "cell_type": "code",
   "execution_count": 17,
   "metadata": {},
   "outputs": [],
   "source": [
    "import matplotlib.pyplot as plt\n",
    "import numpy as np\n",
    "import seaborn as sns\n",
    "\n",
    "sns.set(style=\"white\", color_codes=True)\n",
    "\n",
    "np.random.seed(42)"
   ]
  },
  {
   "cell_type": "markdown",
   "metadata": {},
   "source": [
    "## Definition"
   ]
  },
  {
   "cell_type": "markdown",
   "metadata": {},
   "source": [
    "$\\textbf{Covariance}$ of two random variables x and y is defined as\n",
    "\n",
    "$$ cov(x, y) = \\E[(x-\\E[x])(y-\\E[y])] $$\n",
    "\n",
    "Intuitively it measures joint variability of the two rvs; positive covariance means as one variable increases, so does the other (on average).\n",
    "\n",
    "A $\\textbf{covariance matrix} $ $\\Sigma$ is then a matrix holding covariances between individual elements of a vector-valued random variable $\\bx \\in \\R^D$. Let $\\mu = \\E[\\bx]$, \n",
    "\n",
    "$$ \\Sigma = \\E[(\\bx - \\mu)(\\bx - \\mu)^T] = \\E[\\bx \\bx^T] - \\mu \\mu^T \\Rightarrow \\Sigma_{i, j} = \\E[x_i x_j] - \\mu_i \\mu_j = \\sigma_{i, j}$$\n",
    "\n",
    "Without loss of generality we now assume $\\mu = \\mathbf{0}$."
   ]
  },
  {
   "cell_type": "markdown",
   "metadata": {},
   "source": [
    "Two important properties of the covariance matrix are:\n",
    "\n",
    "$\\textbf{Symmetric}$\n",
    "\n",
    "$$ \\sigma_{i, j} = \\E[x_i x_j] = \\E[x_j x_i] = \\sigma_{j, i} $$\n",
    "\n",
    "$\\textbf{Positive semi-definite}$\n",
    "\n",
    "$$ \\bz^T \\Sigma \\bz = \\bz^T \\E[\\bx \\bx^T] \\bz = \\E[\\bz^T \\bx \\bx^T \\bz] = \\E[(\\bx^T \\bz)^T(\\bx^T \\bz)] = \\E[(\\bx^T \\bz)^2] \\geq 0$$\n",
    "\n",
    "We will make use of these properties later."
   ]
  },
  {
   "cell_type": "markdown",
   "metadata": {},
   "source": [
    "$\\textbf{Variance}$ of a random variable is then self-covariance, i.e.\n",
    "\n",
    "$$ \\V[x] = cov(x, x) = \\E[(x - \\E[x])^2] $$"
   ]
  },
  {
   "cell_type": "markdown",
   "metadata": {},
   "source": [
    "## Examples using Gaussian data"
   ]
  },
  {
   "cell_type": "markdown",
   "metadata": {},
   "source": [
    "The empirical covariance matrix for dataset X of N vectors can conveniently be estimated as \n",
    "\n",
    "$$ C = \\frac{1}{N} \\sum_i^N \\bx_i \\bx_i^T = \\frac{1}{N} A^T A $$"
   ]
  },
  {
   "cell_type": "code",
   "execution_count": 18,
   "metadata": {},
   "outputs": [],
   "source": [
    "def covariance_matrix(A):\n",
    "    assert len(A.shape) == 2\n",
    "    N, _ = A.shape\n",
    "    mu = np.mean(A, axis=0)\n",
    "    return A.T @ A / (N-1) - np.outer(mu, mu)"
   ]
  },
  {
   "cell_type": "code",
   "execution_count": 19,
   "metadata": {},
   "outputs": [],
   "source": [
    "def variance(x):\n",
    "    assert len(x.shape) <= 1\n",
    "    x = np.ravel(x)\n",
    "    return np.var(x)"
   ]
  },
  {
   "cell_type": "code",
   "execution_count": 20,
   "metadata": {},
   "outputs": [],
   "source": [
    "def scatter_plot_with_marginals(A):\n",
    "    g = sns.JointGrid(x=A[:, 0], y=A[:, 1])\n",
    "    g = g.plot_joint(plt.scatter, color=\"orange\")\n",
    "    g.ax_marg_x.hist(A[:, 0], color=\"b\", alpha=1) \n",
    "    g.ax_marg_y.hist(A[:, 1], color=\"r\", alpha=1, orientation=\"horizontal\")\n",
    "    plt.show()"
   ]
  },
  {
   "cell_type": "markdown",
   "metadata": {},
   "source": [
    "### Uncorrelated"
   ]
  },
  {
   "cell_type": "code",
   "execution_count": 21,
   "metadata": {},
   "outputs": [],
   "source": [
    "x = np.random.normal(0, 1, 200)\n",
    "y = np.random.normal(0, 1, 200)\n",
    "A = np.array([x, y]).T\n",
    "A -= np.mean(A, axis=0)\n",
    "N, K = A.shape"
   ]
  },
  {
   "cell_type": "code",
   "execution_count": 22,
   "metadata": {},
   "outputs": [
    {
     "data": {
      "text/plain": [
       "array([[0.86676829, 0.0874307 ],\n",
       "       [0.0874307 , 0.97417652]])"
      ]
     },
     "execution_count": 22,
     "metadata": {},
     "output_type": "execute_result"
    }
   ],
   "source": [
    "covariance_matrix(A)"
   ]
  },
  {
   "cell_type": "markdown",
   "metadata": {},
   "source": [
    "As expected, the two variables x and y are uncorrelated. We can visualise this with a scatter plot as well."
   ]
  },
  {
   "cell_type": "code",
   "execution_count": 23,
   "metadata": {},
   "outputs": [
    {
     "data": {
      "image/png": "[encoded data removed]",
      "text/plain": [
       "<Figure size 432x432 with 3 Axes>"
      ]
     },
     "metadata": {},
     "output_type": "display_data"
    }
   ],
   "source": [
    "scatter_plot_with_marginals(A)"
   ]
  },
  {
   "cell_type": "markdown",
   "metadata": {},
   "source": [
    "### Correlated"
   ]
  },
  {
   "cell_type": "code",
   "execution_count": 24,
   "metadata": {},
   "outputs": [],
   "source": [
    "x = np.random.normal(0, 1, 200)\n",
    "y = x + np.random.normal(0, 1, 200) / 2\n",
    "A = np.array([x, y]).T\n",
    "A -= np.mean(A, axis=0)\n",
    "N, K = A.shape"
   ]
  },
  {
   "cell_type": "code",
   "execution_count": 25,
   "metadata": {},
   "outputs": [
    {
     "data": {
      "text/plain": [
       "array([[0.98811945, 1.04181419],\n",
       "       [1.04181419, 1.35539189]])"
      ]
     },
     "execution_count": 25,
     "metadata": {},
     "output_type": "execute_result"
    }
   ],
   "source": [
    "C = covariance_matrix(A)\n",
    "C"
   ]
  },
  {
   "cell_type": "code",
   "execution_count": 26,
   "metadata": {},
   "outputs": [
    {
     "data": {
      "image/png": "[encoded data removed]",
      "text/plain": [
       "<Figure size 432x432 with 3 Axes>"
      ]
     },
     "metadata": {},
     "output_type": "display_data"
    }
   ],
   "source": [
    "scatter_plot_with_marginals(A)"
   ]
  },
  {
   "cell_type": "markdown",
   "metadata": {},
   "source": [
    "## Directions of maximum variance"
   ]
  },
  {
   "cell_type": "code",
   "execution_count": 27,
   "metadata": {},
   "outputs": [],
   "source": [
    "def eigendecompose(A):\n",
    "    eigenvalues, eigenvectors = np.linalg.eigh(A)\n",
    "    order = eigenvalues.argsort()[::-1]\n",
    "    return eigenvalues[order], eigenvectors[:, order]"
   ]
  },
  {
   "cell_type": "code",
   "execution_count": 28,
   "metadata": {},
   "outputs": [],
   "source": [
    "eigenvalues, eigenvectors = eigendecompose(C)"
   ]
  },
  {
   "cell_type": "code",
   "execution_count": 29,
   "metadata": {},
   "outputs": [
    {
     "data": {
      "image/png": "[encoded data removed]",
      "text/plain": [
       "<Figure size 432x288 with 1 Axes>"
      ]
     },
     "metadata": {},
     "output_type": "display_data"
    }
   ],
   "source": [
    "plt.scatter(x, y, color=\"orange\")\n",
    "plt.axis('square')\n",
    "for e, v in zip(eigenvalues, eigenvectors.T):\n",
    "    plt.plot([0, 3*np.sqrt(e)*v[0]], \n",
    "             [0, 3*np.sqrt(e)*v[1]], \n",
    "             'k-', lw=1)\n",
    "plt.show()"
   ]
  },
  {
   "cell_type": "markdown",
   "metadata": {},
   "source": [
    "We can project onto the direction of maximal variance, given by the eigenvector associated with the largest eigenvalue. This is the essence of PCA."
   ]
  },
  {
   "cell_type": "code",
   "execution_count": 30,
   "metadata": {},
   "outputs": [
    {
     "name": "stdout",
     "output_type": "stream",
     "text": [
      "Projected variance: 2.22\n",
      "Variance via eigendecomposition: 2.23\n",
      "Variance from eigenvalue: 2.23\n"
     ]
    },
    {
     "data": {
      "image/png": "[encoded data removed]",
      "text/plain": [
       "<Figure size 432x288 with 1 Axes>"
      ]
     },
     "metadata": {},
     "output_type": "display_data"
    }
   ],
   "source": [
    "max_E, max_V = eigenvalues[0], eigenvectors[:, 0]\n",
    "\n",
    "Z = A @ max_V\n",
    "print(\"Projected variance: {:.2f}\".format(variance(Z)))\n",
    "print(\"Variance via eigendecomposition: {:.2f}\".format(max_V @ C @ max_V))\n",
    "print(\"Variance from eigenvalue: {:.2f}\".format(max_E))\n",
    "plt.scatter(x, y, color=\"orange\")\n",
    "plt.scatter(Z * max_V[0], Z * max_V[1], color=\"magenta\")\n",
    "plt.axis('square')\n",
    "plt.plot([0, 3*np.sqrt(max_E)*max_V[0]], \n",
    "         [0, 3*np.sqrt(max_E)*max_V[1]], \n",
    "         'k-', lw=2)\n",
    "plt.show()"
   ]
  },
  {
   "cell_type": "markdown",
   "metadata": {},
   "source": [
    "Similarly, we can also project onto the other eigenvector, giving a substantially smaller variance."
   ]
  },
  {
   "cell_type": "code",
   "execution_count": 31,
   "metadata": {},
   "outputs": [
    {
     "name": "stdout",
     "output_type": "stream",
     "text": [
      "Projected variance: 0.11\n",
      "Variance via eigendecomposition: 0.11\n",
      "Variance from eigenvalue: 0.11\n"
     ]
    },
    {
     "data": {
      "image/png": "[encoded data removed]",
      "text/plain": [
       "<Figure size 432x288 with 1 Axes>"
      ]
     },
     "metadata": {},
     "output_type": "display_data"
    }
   ],
   "source": [
    "max_E, max_V = eigenvalues[1], eigenvectors[:, 1]\n",
    "\n",
    "Z = A @ max_V\n",
    "print(\"Projected variance: {:.2f}\".format(variance(Z)))\n",
    "print(\"Variance via eigendecomposition: {:.2f}\".format(max_V @ C @ max_V))\n",
    "print(\"Variance from eigenvalue: {:.2f}\".format(max_E))\n",
    "plt.scatter(x, y, color=\"orange\")\n",
    "plt.scatter(Z * max_V[0], Z * max_V[1], color=\"magenta\")\n",
    "plt.axis('square')\n",
    "plt.plot([0, 3*np.sqrt(max_E)*max_V[0]], \n",
    "         [0, 3*np.sqrt(max_E)*max_V[1]], \n",
    "         'k-', lw=2)\n",
    "plt.show()"
   ]
  },
  {
   "cell_type": "markdown",
   "metadata": {},
   "source": [
    "Lastly, variance along an arbitrary direction $\\bv$:"
   ]
  },
  {
   "cell_type": "code",
   "execution_count": 32,
   "metadata": {},
   "outputs": [
    {
     "name": "stdout",
     "output_type": "stream",
     "text": [
      "Projected variance: 1.57\n",
      "Predicted variance: 1.58\n"
     ]
    },
    {
     "data": {
      "image/png": "[encoded data removed]",
      "text/plain": [
       "<Figure size 432x288 with 1 Axes>"
      ]
     },
     "metadata": {},
     "output_type": "display_data"
    }
   ],
   "source": [
    "v = 0.6 * eigenvectors[:, 0] + 0.4 * eigenvectors[:, 1]\n",
    "v /= np.linalg.norm(v)\n",
    "\n",
    "Z = A @ v\n",
    "print(\"Projected variance: {:.2f}\".format(variance(Z)))\n",
    "print(\"Predicted variance: {:.2f}\".format(v @ C @ v))\n",
    "plt.scatter(x, y, color=\"orange\")\n",
    "plt.scatter(Z * v[0], Z * v[1], color=\"magenta\")\n",
    "plt.axis('square')\n",
    "plt.plot([0, 3*np.sqrt(variance(Z))*v[0]], \n",
    "         [0, 3*np.sqrt(variance(Z))*v[1]], \n",
    "         'k-', lw=2)\n",
    "plt.show()"
   ]
  },
  {
   "cell_type": "markdown",
   "metadata": {},
   "source": [
    "### Obtaining eigenvectors through SVD"
   ]
  },
  {
   "cell_type": "markdown",
   "metadata": {},
   "source": [
    "A more numerically stable approach to eigendecomposing the covariance matrix is to use singular value decomposition of the data matrix. We write\n",
    "\n",
    "$$ A = U S V^T \\Rightarrow C = A^TA = (USV^T)^T(USV^T) = VS^2V^T $$"
   ]
  },
  {
   "cell_type": "code",
   "execution_count": 33,
   "metadata": {},
   "outputs": [],
   "source": [
    "U, S_flat, Vt = np.linalg.svd(A)\n",
    "S = np.zeros_like(A)\n",
    "S[np.arange(A.shape[1]), np.arange(A.shape[1])] = S_flat"
   ]
  },
  {
   "cell_type": "code",
   "execution_count": 34,
   "metadata": {},
   "outputs": [
    {
     "data": {
      "text/plain": [
       "array([[ 0.64281033, -0.76602538],\n",
       "       [ 0.76602538,  0.64281033]])"
      ]
     },
     "execution_count": 34,
     "metadata": {},
     "output_type": "execute_result"
    }
   ],
   "source": [
    "eigenvectors"
   ]
  },
  {
   "cell_type": "code",
   "execution_count": 35,
   "metadata": {},
   "outputs": [
    {
     "data": {
      "text/plain": [
       "array([[-0.64281033, -0.76602538],\n",
       "       [ 0.76602538, -0.64281033]])"
      ]
     },
     "execution_count": 35,
     "metadata": {},
     "output_type": "execute_result"
    }
   ],
   "source": [
    "-Vt"
   ]
  },
  {
   "cell_type": "code",
   "execution_count": 36,
   "metadata": {},
   "outputs": [
    {
     "data": {
      "text/plain": [
       "True"
      ]
     },
     "execution_count": 36,
     "metadata": {},
     "output_type": "execute_result"
    }
   ],
   "source": [
    "np.allclose(eigenvectors, Vt.T) | np.allclose(eigenvectors, -Vt.T)"
   ]
  },
  {
   "cell_type": "markdown",
   "metadata": {},
   "source": [
    "We can also accomplish the same with the thin SVD output."
   ]
  },
  {
   "cell_type": "code",
   "execution_count": 37,
   "metadata": {},
   "outputs": [],
   "source": [
    "U_K, S_flat_K, Vt_K = np.linalg.svd(A, full_matrices=False)"
   ]
  },
  {
   "cell_type": "code",
   "execution_count": 38,
   "metadata": {},
   "outputs": [
    {
     "data": {
      "text/plain": [
       "True"
      ]
     },
     "execution_count": 38,
     "metadata": {},
     "output_type": "execute_result"
    }
   ],
   "source": [
    "np.allclose(eigenvectors, Vt_K.T) | np.allclose(eigenvectors, -Vt_K.T)"
   ]
  },
  {
   "cell_type": "markdown",
   "metadata": {},
   "source": [
    "## Decorrelation and Whitening"
   ]
  },
  {
   "cell_type": "markdown",
   "metadata": {},
   "source": [
    "A useful preprocessing step is to decorrelate the individual components of our data, and scale them to have unit variance (whiten). We seek a transformation matrix M such that the transformed data matrix will have identity covariance.\n",
    "\n",
    "$$ B = AM \\quad \\textrm{s.t.} \\quad B^TB = I $$\n",
    "\n",
    "First, we write \n",
    "\n",
    "$$ B^TB = (AM)^T(AM) = M^T A^TA M = M^T C M $$\n",
    "\n",
    "Now, since our covariance matrix is symmetric, by spectral theorem it is diagonalisable, with eigenvectors forming an orthonormal basis, i.e.\n",
    "\n",
    "$$ C = QLQ^T = Q \\sqrt{L} I \\sqrt{L} Q^T \\Rightarrow I = (Q L^{-1/2}) ^{-1} C (Q L^{-1/2}) $$\n",
    "\n",
    "therefore $M = QL^{-1/2}$."
   ]
  },
  {
   "cell_type": "code",
   "execution_count": 39,
   "metadata": {},
   "outputs": [],
   "source": [
    "Y = A @ eigenvectors @ np.diag(1 / np.sqrt(eigenvalues))"
   ]
  },
  {
   "cell_type": "code",
   "execution_count": 40,
   "metadata": {},
   "outputs": [
    {
     "data": {
      "image/png": "[encoded data removed]",
      "text/plain": [
       "<Figure size 432x432 with 3 Axes>"
      ]
     },
     "metadata": {},
     "output_type": "display_data"
    }
   ],
   "source": [
    "scatter_plot_with_marginals(Y)"
   ]
  },
  {
   "cell_type": "code",
   "execution_count": 41,
   "metadata": {},
   "outputs": [
    {
     "data": {
      "text/plain": [
       "array([[1.00000000e+00, 4.90184287e-17],\n",
       "       [4.90184287e-17, 1.00000000e+00]])"
      ]
     },
     "execution_count": 41,
     "metadata": {},
     "output_type": "execute_result"
    }
   ],
   "source": [
    "Y.T @ Y / (N - 1)"
   ]
  },
  {
   "cell_type": "markdown",
   "metadata": {},
   "source": [
    "Repeating above instead using the SVD of X.\n",
    "\n",
    "\\begin{align}\n",
    "    M^TA^TAM = M^T VSU^TUSV^TM = M^TVS^TSV^TM = I \\Rightarrow M = VS^{-1}\n",
    "\\end{align}"
   ]
  },
  {
   "cell_type": "code",
   "execution_count": 42,
   "metadata": {},
   "outputs": [],
   "source": [
    "Y_SVD = A @ Vt.T @ np.diag(1. / S_flat) * np.sqrt(N-1)"
   ]
  },
  {
   "cell_type": "code",
   "execution_count": 43,
   "metadata": {},
   "outputs": [
    {
     "data": {
      "text/plain": [
       "array([[ 1.00000000e+00, -5.97022878e-16],\n",
       "       [-5.97022878e-16,  1.00000000e+00]])"
      ]
     },
     "execution_count": 43,
     "metadata": {},
     "output_type": "execute_result"
    }
   ],
   "source": [
    "Y_SVD.T @ Y_SVD / (N - 1)"
   ]
  },
  {
   "cell_type": "code",
   "execution_count": 44,
   "metadata": {},
   "outputs": [
    {
     "data": {
      "image/png": "[encoded data removed]",
      "text/plain": [
       "<Figure size 432x432 with 3 Axes>"
      ]
     },
     "metadata": {},
     "output_type": "display_data"
    }
   ],
   "source": [
    "scatter_plot_with_marginals(Y_SVD)"
   ]
  }
 ],
 "metadata": {
  "kernelspec": {
   "display_name": "Python 3",
   "language": "python",
   "name": "python3"
  },
  "language_info": {
   "codemirror_mode": {
    "name": "ipython",
    "version": 3
   },
   "file_extension": ".py",
   "mimetype": "text/x-python",
   "name": "python",
   "nbconvert_exporter": "python",
   "pygments_lexer": "ipython3",
   "version": "3.7.3"
  }
 },
 "nbformat": 4,
 "nbformat_minor": 2
}
